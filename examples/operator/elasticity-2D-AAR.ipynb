{
  "nbformat": 4,
  "nbformat_minor": 0,
  "metadata": {
    "colab": {
      "provenance": [],
      "include_colab_link": true
    },
    "kernelspec": {
      "name": "python3",
      "display_name": "Python 3"
    },
    "language_info": {
      "name": "python"
    }
  },
  "cells": [
    {
      "cell_type": "markdown",
      "metadata": {
        "id": "view-in-github",
        "colab_type": "text"
      },
      "source": [
        "<a href=\"https://colab.research.google.com/github/AhmadAkbariR/deepxde/blob/master/examples/operator/elasticity-2D-AAR.ipynb\" target=\"_parent\"><img src=\"https://colab.research.google.com/assets/colab-badge.svg\" alt=\"Open In Colab\"/></a>"
      ]
    },
    {
      "cell_type": "code",
      "source": [
        "pip install deepxde"
      ],
      "metadata": {
        "colab": {
          "base_uri": "https://localhost:8080/"
        },
        "id": "oNK3rn7cWere",
        "outputId": "f0f6ed2c-c818-49bb-fbb6-07b427e92e35"
      },
      "execution_count": null,
      "outputs": [
        {
          "output_type": "stream",
          "name": "stdout",
          "text": [
            "Collecting deepxde\n",
            "  Downloading DeepXDE-1.12.1-py3-none-any.whl.metadata (12 kB)\n",
            "Requirement already satisfied: matplotlib in /usr/local/lib/python3.10/dist-packages (from deepxde) (3.7.1)\n",
            "Requirement already satisfied: numpy in /usr/local/lib/python3.10/dist-packages (from deepxde) (1.26.4)\n",
            "Requirement already satisfied: scikit-learn in /usr/local/lib/python3.10/dist-packages (from deepxde) (1.5.2)\n",
            "Collecting scikit-optimize>=0.9.0 (from deepxde)\n",
            "  Downloading scikit_optimize-0.10.2-py2.py3-none-any.whl.metadata (9.7 kB)\n",
            "Requirement already satisfied: scipy in /usr/local/lib/python3.10/dist-packages (from deepxde) (1.13.1)\n",
            "Requirement already satisfied: joblib>=0.11 in /usr/local/lib/python3.10/dist-packages (from scikit-optimize>=0.9.0->deepxde) (1.4.2)\n",
            "Collecting pyaml>=16.9 (from scikit-optimize>=0.9.0->deepxde)\n",
            "  Downloading pyaml-24.9.0-py3-none-any.whl.metadata (11 kB)\n",
            "Requirement already satisfied: packaging>=21.3 in /usr/local/lib/python3.10/dist-packages (from scikit-optimize>=0.9.0->deepxde) (24.1)\n",
            "Requirement already satisfied: threadpoolctl>=3.1.0 in /usr/local/lib/python3.10/dist-packages (from scikit-learn->deepxde) (3.5.0)\n",
            "Requirement already satisfied: contourpy>=1.0.1 in /usr/local/lib/python3.10/dist-packages (from matplotlib->deepxde) (1.3.0)\n",
            "Requirement already satisfied: cycler>=0.10 in /usr/local/lib/python3.10/dist-packages (from matplotlib->deepxde) (0.12.1)\n",
            "Requirement already satisfied: fonttools>=4.22.0 in /usr/local/lib/python3.10/dist-packages (from matplotlib->deepxde) (4.54.1)\n",
            "Requirement already satisfied: kiwisolver>=1.0.1 in /usr/local/lib/python3.10/dist-packages (from matplotlib->deepxde) (1.4.7)\n",
            "Requirement already satisfied: pillow>=6.2.0 in /usr/local/lib/python3.10/dist-packages (from matplotlib->deepxde) (10.4.0)\n",
            "Requirement already satisfied: pyparsing>=2.3.1 in /usr/local/lib/python3.10/dist-packages (from matplotlib->deepxde) (3.2.0)\n",
            "Requirement already satisfied: python-dateutil>=2.7 in /usr/local/lib/python3.10/dist-packages (from matplotlib->deepxde) (2.8.2)\n",
            "Requirement already satisfied: PyYAML in /usr/local/lib/python3.10/dist-packages (from pyaml>=16.9->scikit-optimize>=0.9.0->deepxde) (6.0.2)\n",
            "Requirement already satisfied: six>=1.5 in /usr/local/lib/python3.10/dist-packages (from python-dateutil>=2.7->matplotlib->deepxde) (1.16.0)\n",
            "Downloading DeepXDE-1.12.1-py3-none-any.whl (184 kB)\n",
            "\u001b[2K   \u001b[90m━━━━━━━━━━━━━━━━━━━━━━━━━━━━━━━━━━━━━━━━\u001b[0m \u001b[32m184.2/184.2 kB\u001b[0m \u001b[31m10.7 MB/s\u001b[0m eta \u001b[36m0:00:00\u001b[0m\n",
            "\u001b[?25hDownloading scikit_optimize-0.10.2-py2.py3-none-any.whl (107 kB)\n",
            "\u001b[2K   \u001b[90m━━━━━━━━━━━━━━━━━━━━━━━━━━━━━━━━━━━━━━━━\u001b[0m \u001b[32m107.8/107.8 kB\u001b[0m \u001b[31m8.3 MB/s\u001b[0m eta \u001b[36m0:00:00\u001b[0m\n",
            "\u001b[?25hDownloading pyaml-24.9.0-py3-none-any.whl (24 kB)\n",
            "Installing collected packages: pyaml, scikit-optimize, deepxde\n",
            "Successfully installed deepxde-1.12.1 pyaml-24.9.0 scikit-optimize-0.10.2\n"
          ]
        }
      ]
    },
    {
      "cell_type": "code",
      "execution_count": null,
      "metadata": {
        "colab": {
          "base_uri": "https://localhost:8080/"
        },
        "id": "1yxcZxdhOnfm",
        "outputId": "561199a0-5ec1-406d-eea5-de9fe04a098e"
      },
      "outputs": [
        {
          "output_type": "stream",
          "name": "stdout",
          "text": [
            "Current default backend is: pytorch\n",
            "Compiling model...\n",
            "'compile' took 0.002647 s\n",
            "\n",
            "Training model...\n",
            "\n",
            "Step      Train loss                        Test loss                         Test metric\n",
            "0         [1.62e+01, 3.81e+00, 9.54e-01]    [2.03e+01, 2.84e+00, 1.82e+00]    []  \n"
          ]
        }
      ],
      "source": [
        "# @title Default title text\n",
        "\"\"\"Backend supported: tensorflow, pytorch, paddle\"\"\"\n",
        "\n",
        "import os\n",
        "os.environ['DDE_BACKEND'] = 'pytorch'\n",
        "\n",
        "import deepxde as dde\n",
        "import matplotlib.pyplot as plt\n",
        "import numpy as np\n",
        "current_backend = dde.backend.backend_name\n",
        "print(\"Current default backend is:\", current_backend)\n",
        "\n",
        "\n",
        "# PDE equation\n",
        "def pde(xy, uv, aux):\n",
        "    mu = 0.01\n",
        "    nu = 0.3\n",
        "    u, v = uv[..., 0:1], uv[..., 1:2]\n",
        "    #u, v, p = uvp[..., 0:1], uvp[..., 1:2], uvp[..., 2:3]\n",
        "    grad_u = dde.zcs.LazyGrad(xy, u)\n",
        "    grad_v = dde.zcs.LazyGrad(xy, v)\n",
        "    #grad_p = dde.zcs.LazyGrad(xy, p)\n",
        "    # first order\n",
        "    du_x = grad_u.compute((1, 0))\n",
        "    dv_y = grad_v.compute((0, 1))\n",
        "    #dp_x = grad_p.compute((1, 0))\n",
        "    #dp_y = grad_p.compute((0, 1))\n",
        "    # second order\n",
        "    du_xx = grad_u.compute((2, 0))\n",
        "    du_yy = grad_u.compute((0, 2))\n",
        "    du_xy = grad_u.compute((1, 1))\n",
        "    dv_xx = grad_v.compute((2, 0))\n",
        "    dv_xy = grad_v.compute((1, 1))\n",
        "    dv_yy = grad_v.compute((0, 2))\n",
        "    Del2U = du_xx + du_yy + (1+nu)/(1-nu) * (du_xx + dv_xy)\n",
        "    Del2V = dv_xx + dv_yy + (1+nu)/(1-nu) * (du_xy + dv_yy)\n",
        "\n",
        "    #motion_x = mu * (du_xx + du_yy) - dp_x\n",
        "    #motion_y = mu * (dv_xx + dv_yy) - dp_y\n",
        "    #mass = du_x + dv_y\n",
        "    #return motion_x, motion_y, mass\n",
        "    return Del2U, Del2V\n",
        "\n",
        "# Geometry\n",
        "geom = dde.geometry.Rectangle([0, 0], [1, 1])\n",
        "\n",
        "# Boundary condition\n",
        "# other boundary conditions will be enforced by output transform\n",
        "def bc_slip_top_func(x, aux_var):\n",
        "\n",
        "    return  dde.backend.as_tensor(0.5 )\n",
        "bc_slip_top = dde.icbc.DirichletBC(\n",
        "                                    geom=geom,\n",
        "                                    func=bc_slip_top_func,\n",
        "                                    on_boundary=lambda x, on_boundary: np.isclose(x[0], 1.),\n",
        "                                    component=0)\n",
        "\n",
        "#def bc_slip_top_func(x, aux_var):\n",
        "    # using (perturbation / 10 + 1) * x * (1 - x)\n",
        "#    return (aux_var / 10 + 1.) * dde.backend.as_tensor(x[:, 0:1] * (1 - x[:, 0:1]))\n",
        "#bc_slip_top = dde.icbc.DirichletBC(\n",
        "#                                    geom=geom,\n",
        "#                                    func=bc_slip_top_func,\n",
        "#                                    on_boundary=lambda x, on_boundary: np.isclose(x[1], 1.),\n",
        "#                                    component=0)\n",
        "# PDE object\n",
        "pde = dde.data.PDE(\n",
        "    geom,\n",
        "    pde,\n",
        "    bcs=[bc_slip_top],\n",
        "    num_domain=500,\n",
        "    num_boundary=50,  # sampling a bit more points on boundary (1000 on top bc)\n",
        "    num_test=100,\n",
        ")\n",
        "\n",
        "# Function space\n",
        "func_space = dde.data.GRF(length_scale=0.2)\n",
        "\n",
        "# Data\n",
        "n_pts_edge = 101  # using the size of true solution, but this is unnecessary\n",
        "eval_pts = np.linspace(0, 1, num=n_pts_edge)[:, None]\n",
        "data = dde.zcs.PDEOperatorCartesianProd(\n",
        "    pde, func_space, eval_pts, num_function=20,\n",
        "    function_variables=[0], num_test=5, batch_size=10\n",
        ")\n",
        "\n",
        "# Net\n",
        "net = dde.nn.DeepONetCartesianProd(\n",
        "    [n_pts_edge, 128, 128, 128],\n",
        "    [2, 128, 128, 128],\n",
        "    \"tanh\",\n",
        "    \"Glorot normal\",\n",
        "    num_outputs=2,\n",
        "    multi_output_strategy=\"independent\"\n",
        ")\n",
        "\n",
        "# Output transform for zero boundary conditions\n",
        "def out_transform(inputs, outputs):\n",
        "    x, y = inputs[1][:, 0], inputs[1][:, 1]\n",
        "    # horizontal displacement on left\n",
        "    u = outputs[:, :, 0] * (x)[None, :]\n",
        "    # vertical dis on left\n",
        "    v = outputs[:, :, 1] * (x)[None, :]\n",
        "    ## pressure on bottom\n",
        "    #p = outputs[:, :, 2] * y[None, :]\n",
        "    return dde.backend.stack((u, v), axis=2)\n",
        "net.apply_output_transform(out_transform)\n",
        "\n",
        "# Model\n",
        "model = dde.zcs.Model(data, net)\n",
        "model.compile(\"adam\", lr=0.001, decay=(\"inverse time\", 100, 0.5))\n",
        "losshistory, train_state = model.train(iterations=1000)\n",
        "dde.utils.plot_loss_history(losshistory)\n",
        "# save model if needed\n",
        "# model.save('stokes_weights')\n",
        "\n",
        "# Evaluation\n",
        "func_feats = func_space.random(1)\n",
        "v = func_space.eval_batch(func_feats, eval_pts)\n",
        "v[:] = 0.  # true solution uses zero perturbation\n",
        "xv, yv = np.meshgrid(eval_pts[:, 0], eval_pts[:, 0], indexing='ij')\n",
        "xy = np.vstack((np.ravel(xv), np.ravel(yv))).T\n",
        "sol_pred = model.predict((v, xy))[0]\n",
        "#sol_true = np.load('../dataset/stokes.npz')['arr_0']\n",
        "#print('Error on horizontal velocity:', dde.metrics.l2_relative_error(sol_true[:, 0], sol_pred[:, 0]))\n",
        "#print('Error on vertical velocity:', dde.metrics.l2_relative_error(sol_true[:, 1], sol_pred[:, 1]))\n",
        "#print('Error on pressure:', dde.metrics.l2_relative_error(sol_true[:, 2], sol_pred[:, 2]))\n",
        "\n",
        "def deform_coord(xy , sol_pred):\n",
        "\n",
        "    return xy + sol_pred\n",
        "deformed = deform_coord(xy , sol_pred)\n",
        "plt.scatter(deformed[:,0],deformed[:,1])\n",
        "plt.show()\n"
      ]
    },
    {
      "cell_type": "code",
      "source": [
        "def deform_coord(xy , sol_pred):\n",
        "\n",
        "    return xy + sol_pred\n",
        "deformed = deform_coord(xy , sol_pred)\n",
        "plt.scatter(deformed[:,0],deformed[:,1])\n",
        "plt.show()"
      ],
      "metadata": {
        "id": "B3TEtcPnrG3Z",
        "outputId": "38eb8f1e-d037-4d1a-bd12-32a52f79471a",
        "colab": {
          "base_uri": "https://localhost:8080/",
          "height": 430
        }
      },
      "execution_count": null,
      "outputs": [
        {
          "output_type": "display_data",
          "data": {
            "text/plain": [
              "<Figure size 640x480 with 1 Axes>"
            ],
            "image/png": "[encoded data removed]"
          },
          "metadata": {}
        }
      ]
    },
    {
      "cell_type": "code",
      "source": [
        "# Plot\n",
        "def plot_sol(sol, ax, pressure_lim=0.03, vec_space=4, vec_scale=.5, label=\"\"):\n",
        "    ax.imshow(sol[:, :, 2].T, origin=\"lower\",\n",
        "              vmin=-pressure_lim, vmax=pressure_lim, cmap=\"turbo\", alpha=.6)\n",
        "    ax.quiver(xv[::vec_space, ::vec_space] * 100,\n",
        "              yv[::vec_space, ::vec_space] * 100,\n",
        "              sol[::vec_space, ::vec_space, 0],\n",
        "              sol[::vec_space, ::vec_space, 1], color=\"k\", scale=vec_scale)\n",
        "    ax.axis('off')\n",
        "    ax.set_title(label)\n",
        "\n",
        "fig, ax = plt.subplots(1, 2, dpi=200)\n",
        "plot_sol(sol_true.reshape(101, 101, 3), ax[0], label=\"True\")\n",
        "plot_sol(sol_pred.reshape(101, 101, 3), ax[1], label=\"Predicted\")\n",
        "# save plot if needed\n",
        "# plt.savefig('stokes_plot.png')\n",
        "plt.show()"
      ],
      "metadata": {
        "id": "kvJK6UIDq_r4"
      },
      "execution_count": null,
      "outputs": []
    },
    {
      "cell_type": "code",
      "source": [
        "def Deformed_shape(xy, uv ):\n",
        "\n",
        "x = xy[:,0]  # Original x coordinates\n",
        "y = xy[:,1]  # Original y coordinates\n",
        "u = uv[:,0]  # Random displacement in x direction\n",
        "v = uv[:,1]  # Random displacement in y direction\n",
        "\n",
        "\n",
        "# New coordinates after displacement\n",
        "\n",
        "x_new = x + u\n",
        "y_new = y + v\n",
        "\n",
        "# Plotting\n",
        "plt.figure(figsize=(12, 8))\n",
        "plt.quiver(x, y, u, v, angles='xy', scale_units='xy', scale=1, color='blue', alpha=0.5, label='Displacement (u, v)')\n",
        "plt.scatter(x, y, color='red', s=10, alpha=0.7, label='Original Nodes')\n",
        "plt.scatter(x_new, y_new, color='green', s=10, alpha=0.7, label='New Nodes')\n",
        "\n",
        "# Setting the limits for better visualization\n",
        "plt.xlim(-0.1, 2.1)  # Adjust the range based on your data\n",
        "plt.ylim(-0.1, 1.1)\n",
        "plt.grid()\n",
        "plt.axhline(0, color='grey', lw=0.5)\n",
        "plt.axvline(0, color='grey', lw=0.5)\n",
        "plt.title('Original and Displaced Nodes')\n",
        "plt.xlabel('X Coordinate')\n",
        "plt.ylabel('Y Coordinate')\n",
        "plt.legend()\n",
        "plt.show()"
      ],
      "metadata": {
        "id": "B3rpFFPamxD2"
      },
      "execution_count": null,
      "outputs": []
    }
  ]
}